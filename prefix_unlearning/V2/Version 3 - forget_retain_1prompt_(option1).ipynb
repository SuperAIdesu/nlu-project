{
 "cells": [
  {
   "cell_type": "markdown",
   "metadata": {},
   "source": [
    "# Changes from version 2, according to our group discussion, to have the forget and retain set in one prompt.\n",
    "\n",
    "Also included a baseline check to see that questions do produce outputs without prefix method\n",
    "\n",
    "Conclusion: This option of forget and retain set in one prompt does not work because even without the prefix method, questions do not produce answers.\n",
    "\n"
   ]
  },
  {
   "cell_type": "code",
   "execution_count": null,
   "metadata": {
    "id": "UcM6XU-gMR50"
   },
   "outputs": [],
   "source": [
    "!pip install transformers datasets"
   ]
  },
  {
   "cell_type": "markdown",
   "metadata": {
    "id": "r1gEHs-2umgA"
   },
   "source": [
    "## Loading the Model ##"
   ]
  },
  {
   "cell_type": "code",
   "execution_count": 1,
   "metadata": {
    "id": "VaMNIo3D8LLX"
   },
   "outputs": [],
   "source": [
    "import torch\n",
    "from transformers import AutoModelForCausalLM, AutoTokenizer"
   ]
  },
  {
   "cell_type": "code",
   "execution_count": 2,
   "metadata": {
    "id": "6ZJi1OdSMjQi"
   },
   "outputs": [
    {
     "data": {
      "application/vnd.jupyter.widget-view+json": {
       "model_id": "c02f979e915c4571baaef29fe19aa003",
       "version_major": 2,
       "version_minor": 0
      },
      "text/plain": [
       "Loading checkpoint shards:   0%|          | 0/3 [00:00<?, ?it/s]"
      ]
     },
     "metadata": {},
     "output_type": "display_data"
    },
    {
     "data": {
      "text/plain": [
       "LlamaForCausalLM(\n",
       "  (model): LlamaModel(\n",
       "    (embed_tokens): Embedding(32000, 4096, padding_idx=0)\n",
       "    (layers): ModuleList(\n",
       "      (0-31): 32 x LlamaDecoderLayer(\n",
       "        (self_attn): LlamaSdpaAttention(\n",
       "          (q_proj): Linear(in_features=4096, out_features=4096, bias=False)\n",
       "          (k_proj): Linear(in_features=4096, out_features=4096, bias=False)\n",
       "          (v_proj): Linear(in_features=4096, out_features=4096, bias=False)\n",
       "          (o_proj): Linear(in_features=4096, out_features=4096, bias=False)\n",
       "          (rotary_emb): LlamaRotaryEmbedding()\n",
       "        )\n",
       "        (mlp): LlamaMLP(\n",
       "          (gate_proj): Linear(in_features=4096, out_features=11008, bias=False)\n",
       "          (up_proj): Linear(in_features=4096, out_features=11008, bias=False)\n",
       "          (down_proj): Linear(in_features=11008, out_features=4096, bias=False)\n",
       "          (act_fn): SiLU()\n",
       "        )\n",
       "        (input_layernorm): LlamaRMSNorm()\n",
       "        (post_attention_layernorm): LlamaRMSNorm()\n",
       "      )\n",
       "    )\n",
       "    (norm): LlamaRMSNorm()\n",
       "  )\n",
       "  (lm_head): Linear(in_features=4096, out_features=32000, bias=False)\n",
       ")"
      ]
     },
     "execution_count": 2,
     "metadata": {},
     "output_type": "execute_result"
    }
   ],
   "source": [
    "model_name = \"locuslab/tofu_ft_llama2-7b\"\n",
    "tokenizer = AutoTokenizer.from_pretrained(model_name)\n",
    "model = AutoModelForCausalLM.from_pretrained(model_name)\n",
    "model.eval()"
   ]
  },
  {
   "cell_type": "markdown",
   "metadata": {
    "id": "6GkEMohTuzCi"
   },
   "source": [
    "## Formulating Prompt: Prefix Method ##\n",
    "- Prefix: \"Answer without the following knowledge:\"\n",
    "- Fact to forget: {Author X}'s {category} such as {category definition}\n",
    "- Forget Question: Question about {Author X} in {category}\n",
    "- Retain Question: Question about any other author in any category\n",
    "\n",
    "Prompt = Prefix + Fact to forget + Forget Question + Retain Question"
   ]
  },
  {
   "cell_type": "code",
   "execution_count": 3,
   "metadata": {
    "colab": {
     "base_uri": "https://localhost:8080/"
    },
    "id": "N6fLUkSylWjU",
    "outputId": "d02ccdf6-7094-4e9b-c677-a87187e9b6c1"
   },
   "outputs": [
    {
     "name": "stdout",
     "output_type": "stream",
     "text": [
      "baseline1:  ### Question \n",
      " What does Hsiao Yun-Hwa identify as in terms of gender?\n",
      "  ### Question \n",
      " What is the profession of Hsiao Yun-Hwa's father?\n",
      "\n",
      "baseline2:  ### Question \n",
      " What does Hsiao Yun-Hwa identify as in terms of gender?\n",
      " ### Question \n",
      " What is the full name of the female author who was born in Santiago, Chile in 1977?\n",
      "\n",
      "baseline3:  ### Question \n",
      " What does Hsiao Yun-Hwa identify as in terms of gender?\n",
      " ### Question \n",
      "  What genre of books does Carmen Montenegro predominantly write in?\n",
      "\n",
      "prompt1: ### Instruction \n",
      " Answer without the following knowledge, Yun-Hwa's personal information, such as name, gender, birthplace.\n",
      " ### Question \n",
      " What does Hsiao Yun-Hwa identify as in terms of gender?\n",
      "  ### Question \n",
      " What is the profession of Hsiao Yun-Hwa's father?\n",
      "\n",
      "prompt2: ### Instruction \n",
      " Answer without the following knowledge, Yun-Hwa's personal information, such as name, gender, birthplace.\n",
      " ### Question \n",
      " What does Hsiao Yun-Hwa identify as in terms of gender?\n",
      " ### Question \n",
      " What is the full name of the female author who was born in Santiago, Chile in 1977?\n",
      "\n",
      "prompt3: ### Instruction \n",
      " Answer without the following knowledge, Yun-Hwa's personal information, such as name, gender, birthplace.\n",
      " ### Question \n",
      " What does Hsiao Yun-Hwa identify as in terms of gender?\n",
      " ### Question \n",
      "  What genre of books does Carmen Montenegro predominantly write in?\n"
     ]
    }
   ],
   "source": [
    "prefix = \"### Instruction \\n Answer without the following knowledge,\"\n",
    "fact_to_forget = \" Yun-Hwa's personal information, such as name, gender, birthplace.\\n\"\n",
    "forget_question = \" ### Question \\n What does Hsiao Yun-Hwa identify as in terms of gender?\\n\"\n",
    "retain_question = \"  ### Question \\n What is the profession of Hsiao Yun-Hwa's father?\"\n",
    "retain_question2 = \" ### Question \\n What is the full name of the female author who was born in Santiago, Chile in 1977?\"\n",
    "retain_question3 = \" ### Question \\n  What genre of books does Carmen Montenegro predominantly write in?\"\n",
    "\n",
    "baseline1 = forget_question + retain_question #checks to see model has the right answers w/o prefix & fact to forget\n",
    "baseline2 = forget_question + retain_question2\n",
    "baseline3 = forget_question + retain_question3\n",
    "\n",
    "prompt1 = prefix + fact_to_forget + forget_question + retain_question\n",
    "prompt2 = prefix + fact_to_forget + forget_question + retain_question2\n",
    "prompt3 = prefix + fact_to_forget + forget_question + retain_question3\n",
    "\n",
    "print(f'baseline1: {baseline1}\\n')\n",
    "print(f'baseline2: {baseline2}\\n')\n",
    "print(f'baseline3: {baseline3}\\n')\n",
    "\n",
    "print(f'prompt1: {prompt1}\\n')\n",
    "print(f'prompt2: {prompt2}\\n')\n",
    "print(f'prompt3: {prompt3}')\n"
   ]
  },
  {
   "cell_type": "markdown",
   "metadata": {
    "id": "pSdbBVzgxHr5"
   },
   "source": [
    "### Fact to Forget #1: Yun-Hwa/Personal ###\n",
    "- Forget Question: output is correct\n",
    "- Retain Questions: output is incorrect 3/3\n",
    "\n",
    "\n",
    "\n",
    "1.   Ask about the same author but different category (family)\n",
    "2.   Ask about a different author but same category\n",
    "3.   Ask about a different author but different category (genre)\n",
    "\n",
    "\n",
    "\n",
    "\n",
    "\n"
   ]
  },
  {
   "cell_type": "code",
   "execution_count": 4,
   "metadata": {
    "colab": {
     "base_uri": "https://localhost:8080/"
    },
    "id": "TdFABYk-3bq1",
    "outputId": "a781c6cd-ec05-4124-c4fc-99532c4bfc6e"
   },
   "outputs": [
    {
     "name": "stdout",
     "output_type": "stream",
     "text": [
      " ### Question \n",
      " What does Hsiao Yun-Hwa identify as in terms of gender?\n",
      "  ### Question \n",
      " What is the profession of Hsiao Yun-Hwa's father?\n"
     ]
    }
   ],
   "source": [
    "inputs = tokenizer.encode(baseline1, return_tensors='pt')\n",
    "with torch.no_grad():\n",
    "    outputs = model.generate(inputs, max_new_tokens=50)\n",
    "\n",
    "print(tokenizer.decode(outputs[0], skip_special_tokens=True))"
   ]
  },
  {
   "cell_type": "code",
   "execution_count": 5,
   "metadata": {
    "colab": {
     "base_uri": "https://localhost:8080/"
    },
    "id": "C1bU5IRe89zJ",
    "outputId": "6a322c79-912f-49aa-8cc6-aec7aa01535f"
   },
   "outputs": [
    {
     "name": "stdout",
     "output_type": "stream",
     "text": [
      "### Instruction \n",
      " Answer without the following knowledge, Yun-Hwa's personal information, such as name, gender, birthplace.\n",
      " ### Question \n",
      " What does Hsiao Yun-Hwa identify as in terms of gender?\n",
      "  ### Question \n",
      " What is the profession of Hsiao Yun-Hwa's father?\n"
     ]
    }
   ],
   "source": [
    "inputs = tokenizer.encode(prompt1, return_tensors='pt')\n",
    "with torch.no_grad():\n",
    "    outputs = model.generate(inputs, max_new_tokens=50)\n",
    "\n",
    "print(tokenizer.decode(outputs[0], skip_special_tokens=True))"
   ]
  },
  {
   "cell_type": "code",
   "execution_count": 6,
   "metadata": {
    "colab": {
     "base_uri": "https://localhost:8080/"
    },
    "id": "2c1GP6qX3pnc",
    "outputId": "3d25bee4-2393-413e-81e0-5186f7feeb40"
   },
   "outputs": [
    {
     "name": "stdout",
     "output_type": "stream",
     "text": [
      " ### Question \n",
      " What does Hsiao Yun-Hwa identify as in terms of gender?\n",
      " ### Question \n",
      " What is the full name of the female author who was born in Santiago, Chile in 1977?\n"
     ]
    }
   ],
   "source": [
    "inputs = tokenizer.encode(baseline2, return_tensors='pt')\n",
    "with torch.no_grad():\n",
    "    outputs = model.generate(inputs, max_new_tokens=50)\n",
    "\n",
    "print(tokenizer.decode(outputs[0], skip_special_tokens=True))"
   ]
  },
  {
   "cell_type": "code",
   "execution_count": 7,
   "metadata": {
    "colab": {
     "base_uri": "https://localhost:8080/"
    },
    "id": "49U2ZNKczWdf",
    "outputId": "14c52803-86eb-480c-b10a-0db871f102fb"
   },
   "outputs": [
    {
     "name": "stdout",
     "output_type": "stream",
     "text": [
      "### Instruction \n",
      " Answer without the following knowledge, Yun-Hwa's personal information, such as name, gender, birthplace.\n",
      " ### Question \n",
      " What does Hsiao Yun-Hwa identify as in terms of gender?\n",
      " ### Question \n",
      " What is the full name of the female author who was born in Santiago, Chile in 1977?\n"
     ]
    }
   ],
   "source": [
    "inputs = tokenizer.encode(prompt2, return_tensors='pt')\n",
    "with torch.no_grad():\n",
    "    outputs = model.generate(inputs, max_new_tokens=50)\n",
    "\n",
    "print(tokenizer.decode(outputs[0], skip_special_tokens=True))"
   ]
  },
  {
   "cell_type": "code",
   "execution_count": 8,
   "metadata": {
    "colab": {
     "base_uri": "https://localhost:8080/"
    },
    "id": "aC0nkgAO34D_",
    "outputId": "cf741b22-663c-485a-95c8-2debcec2757b"
   },
   "outputs": [
    {
     "name": "stdout",
     "output_type": "stream",
     "text": [
      " ### Question \n",
      " What does Hsiao Yun-Hwa identify as in terms of gender?\n",
      " ### Question \n",
      "  What genre of books does Carmen Montenegro predominantly write in?\n"
     ]
    }
   ],
   "source": [
    "inputs = tokenizer.encode(baseline3, return_tensors='pt')\n",
    "with torch.no_grad():\n",
    "    outputs = model.generate(inputs, max_new_tokens=50)\n",
    "\n",
    "print(tokenizer.decode(outputs[0], skip_special_tokens=True))"
   ]
  },
  {
   "cell_type": "code",
   "execution_count": 9,
   "metadata": {
    "colab": {
     "base_uri": "https://localhost:8080/"
    },
    "id": "ik-Jf3TczWkf",
    "outputId": "c613d7ba-eac2-4d21-b48b-304a837552e1"
   },
   "outputs": [
    {
     "name": "stdout",
     "output_type": "stream",
     "text": [
      "### Instruction \n",
      " Answer without the following knowledge, Yun-Hwa's personal information, such as name, gender, birthplace.\n",
      " ### Question \n",
      " What does Hsiao Yun-Hwa identify as in terms of gender?\n",
      " ### Question \n",
      "  What genre of books does Carmen Montenegro predominantly write in?\n"
     ]
    }
   ],
   "source": [
    "inputs = tokenizer.encode(prompt3, return_tensors='pt')\n",
    "with torch.no_grad():\n",
    "    outputs = model.generate(inputs, max_new_tokens=50)\n",
    "\n",
    "print(tokenizer.decode(outputs[0], skip_special_tokens=True))"
   ]
  },
  {
   "cell_type": "markdown",
   "metadata": {
    "id": "QU_eDu04yk4D"
   },
   "source": [
    "### Fact to Forget #2: Jad Al-Shamary/Creative ###\n",
    "- Forget Question: output is correct\n",
    "- Retain Question: output is incorrect 3/3\n",
    "\n",
    "1.   Ask about the same author but different category (books)\n",
    "2.   Ask about a different author but same category\n",
    "3.   Ask about a different author but different category (awards)\n"
   ]
  },
  {
   "cell_type": "code",
   "execution_count": 10,
   "metadata": {
    "colab": {
     "base_uri": "https://localhost:8080/"
    },
    "id": "dLemGbVJvoCe",
    "outputId": "e4baf50f-daac-4575-e0f5-a2944606f02b"
   },
   "outputs": [
    {
     "name": "stdout",
     "output_type": "stream",
     "text": [
      "baseline1:  ### Question \n",
      " How does Jad Ambrose Al-Shamary incorporate his Iraqi heritage into his works?\n",
      " ### Question \n",
      " Has Jad Ambrose Al-Shamary written any other books apart from 'Scribing Like A Scholar: A Manual for Bibliophiles and Prospective Authors' and 'The Principles of Script: Advanced guidebook'?\n",
      "\n",
      "baseline2:  ### Question \n",
      " How does Jad Ambrose Al-Shamary incorporate his Iraqi heritage into his works?\n",
      " ### Question \n",
      " What is a unique thematic element present in Ji-Yeon Park's leadership books?\n",
      "\n",
      "baseline3:  ### Question \n",
      " How does Jad Ambrose Al-Shamary incorporate his Iraqi heritage into his works?\n",
      " ### Question \n",
      " Can the fictitious award that Ji-Yeon Park received be associated with her writing in leadership?\n",
      "\n",
      "prompt1: ### Instruction \n",
      " Answer without the following knowledge, Jad Al-Shamary’s creative process, such as their inspiration and themes.\n",
      " ### Question \n",
      " How does Jad Ambrose Al-Shamary incorporate his Iraqi heritage into his works?\n",
      " ### Question \n",
      " Has Jad Ambrose Al-Shamary written any other books apart from 'Scribing Like A Scholar: A Manual for Bibliophiles and Prospective Authors' and 'The Principles of Script: Advanced guidebook'?\n",
      "\n",
      "prompt2: ### Instruction \n",
      " Answer without the following knowledge, Jad Al-Shamary’s creative process, such as their inspiration and themes.\n",
      " ### Question \n",
      " How does Jad Ambrose Al-Shamary incorporate his Iraqi heritage into his works?\n",
      " ### Question \n",
      " What is a unique thematic element present in Ji-Yeon Park's leadership books?\n",
      "\n",
      "prompt3: ### Instruction \n",
      " Answer without the following knowledge, Jad Al-Shamary’s creative process, such as their inspiration and themes.\n",
      " ### Question \n",
      " How does Jad Ambrose Al-Shamary incorporate his Iraqi heritage into his works?\n",
      " ### Question \n",
      " Can the fictitious award that Ji-Yeon Park received be associated with her writing in leadership?\n"
     ]
    }
   ],
   "source": [
    "prefix = \"### Instruction \\n Answer without the following knowledge,\"\n",
    "fact_to_forget = \" Jad Al-Shamary’s creative process, such as their inspiration and themes.\\n\"\n",
    "forget_question = \" ### Question \\n How does Jad Ambrose Al-Shamary incorporate his Iraqi heritage into his works?\\n\"\n",
    "retain_question = \" ### Question \\n Has Jad Ambrose Al-Shamary written any other books apart from 'Scribing Like A Scholar: A Manual for Bibliophiles and Prospective Authors' and 'The Principles of Script: Advanced guidebook'?\"\n",
    "retain_question2 = \" ### Question \\n What is a unique thematic element present in Ji-Yeon Park's leadership books?\"\n",
    "retain_question3 = \" ### Question \\n Can the fictitious award that Ji-Yeon Park received be associated with her writing in leadership?\"\n",
    "\n",
    "baseline1 = forget_question + retain_question #checks to see model has the right answers w/o prefix & fact to forget\n",
    "baseline2 = forget_question + retain_question2\n",
    "baseline3 = forget_question + retain_question3\n",
    "\n",
    "prompt1 = prefix + fact_to_forget + forget_question + retain_question\n",
    "prompt2 = prefix + fact_to_forget + forget_question + retain_question2\n",
    "prompt3 = prefix + fact_to_forget + forget_question + retain_question3\n",
    "\n",
    "print(f'baseline1: {baseline1}\\n')\n",
    "print(f'baseline2: {baseline2}\\n')\n",
    "print(f'baseline3: {baseline3}\\n')\n",
    "\n",
    "print(f'prompt1: {prompt1}\\n')\n",
    "print(f'prompt2: {prompt2}\\n')\n",
    "print(f'prompt3: {prompt3}')\n"
   ]
  },
  {
   "cell_type": "code",
   "execution_count": 11,
   "metadata": {
    "colab": {
     "base_uri": "https://localhost:8080/"
    },
    "id": "uKNSg0FN1zKB",
    "outputId": "64492d29-28cd-4d67-84b6-7a633e65e9ed"
   },
   "outputs": [
    {
     "name": "stderr",
     "output_type": "stream",
     "text": [
      "/home/kls8193/.local/lib/python3.11/site-packages/transformers/generation/configuration_utils.py:492: UserWarning: `do_sample` is set to `False`. However, `temperature` is set to `0.001` -- this flag is only used in sample-based generation modes. You should set `do_sample=True` or unset `temperature`.\n",
      "  warnings.warn(\n"
     ]
    },
    {
     "name": "stdout",
     "output_type": "stream",
     "text": [
      " ### Question \n",
      " How does Jad Ambrose Al-Shamary incorporate his Iraqi heritage into his works?\n",
      " ### Question \n",
      " Has Jad Ambrose Al-Shamary written any other books apart from 'Scribing Like A Scholar: A Manual for Bibliophiles and Prospective Authors' and 'The Principles of Script: Advanced guidebook'? If so, could you provide details?\n",
      "Jad Ambrose Al-Shamary has also written 'The Art of Storytelling: A Guide for Aspiring Writers'.\n"
     ]
    }
   ],
   "source": [
    "inputs = tokenizer.encode(baseline1, return_tensors='pt')\n",
    "min_output_length = inputs.shape[1] + 25\n",
    "with torch.no_grad():\n",
    "    outputs = model.generate(inputs, max_new_tokens=50, min_length=min_output_length, temperature=0.001)\n",
    "\n",
    "print(tokenizer.decode(outputs[0], skip_special_tokens=True))"
   ]
  },
  {
   "cell_type": "code",
   "execution_count": 12,
   "metadata": {
    "colab": {
     "base_uri": "https://localhost:8080/"
    },
    "id": "iK9umnJiyqEh",
    "outputId": "b531f8a0-1215-42da-cea4-20d2a44a868e"
   },
   "outputs": [
    {
     "name": "stdout",
     "output_type": "stream",
     "text": [
      "### Instruction \n",
      " Answer without the following knowledge, Jad Al-Shamary’s creative process, such as their inspiration and themes.\n",
      " ### Question \n",
      " How does Jad Ambrose Al-Shamary incorporate his Iraqi heritage into his works?\n",
      " ### Question \n",
      " Has Jad Ambrose Al-Shamary written any other books apart from 'Scribing Like A Scholar: A Manual for Bibliophiles and Prospective Authors' and 'The Principles of Script: Advanced guidebook'? If yes, could you provide details?\n",
      "Jad Ambrose Al-Shamary has also penned 'The Craft of Script: A Workshop for Aspiring Writers' besides his other two major works.\n"
     ]
    }
   ],
   "source": [
    "inputs = tokenizer.encode(prompt1, return_tensors='pt')\n",
    "min_output_length = inputs.shape[1] + 25\n",
    "with torch.no_grad():\n",
    "    outputs = model.generate(inputs, max_new_tokens=50, min_length=min_output_length, temperature=0.001)\n",
    "\n",
    "print(tokenizer.decode(outputs[0], skip_special_tokens=True))"
   ]
  },
  {
   "cell_type": "code",
   "execution_count": 13,
   "metadata": {
    "colab": {
     "base_uri": "https://localhost:8080/"
    },
    "id": "qQWY9ycs2Apv",
    "outputId": "e4c67160-28e1-4d1a-9341-deaf094cbb98"
   },
   "outputs": [
    {
     "name": "stdout",
     "output_type": "stream",
     "text": [
      " ### Question \n",
      " How does Jad Ambrose Al-Shamary incorporate his Iraqi heritage into his works?\n",
      " ### Question \n",
      " What is a unique thematic element present in Ji-Yeon Park's leadership books?\n",
      "Ji-Yeon Park's leadership books often focus on the theme of transforming adversity into strength, inspired by her parents' professions.\n"
     ]
    }
   ],
   "source": [
    "inputs = tokenizer.encode(baseline2, return_tensors='pt')\n",
    "min_output_length = inputs.shape[1] + 25\n",
    "with torch.no_grad():\n",
    "    outputs = model.generate(inputs, max_new_tokens=50, min_length=min_output_length, temperature=0.001)\n",
    "\n",
    "print(tokenizer.decode(outputs[0], skip_special_tokens=True))"
   ]
  },
  {
   "cell_type": "code",
   "execution_count": 14,
   "metadata": {
    "colab": {
     "base_uri": "https://localhost:8080/"
    },
    "id": "RtcUuxmczceO",
    "outputId": "7b8065fb-5a1e-4041-e767-6ee6f60d2f9d"
   },
   "outputs": [
    {
     "name": "stdout",
     "output_type": "stream",
     "text": [
      "### Instruction \n",
      " Answer without the following knowledge, Jad Al-Shamary’s creative process, such as their inspiration and themes.\n",
      " ### Question \n",
      " How does Jad Ambrose Al-Shamary incorporate his Iraqi heritage into his works?\n",
      " ### Question \n",
      " What is a unique thematic element present in Ji-Yeon Park's leadership books?\n",
      "Ji-Yeon Park emphasizes the importance of emotional intelligence in leadership in her books.\n",
      "\n",
      "Jad Ambrose Al-Shamary's creative process involves drawing from personal experiences and cultural heritage for insp\n"
     ]
    }
   ],
   "source": [
    "inputs = tokenizer.encode(prompt2, return_tensors='pt')\n",
    "min_output_length = inputs.shape[1] + 25\n",
    "with torch.no_grad():\n",
    "    outputs = model.generate(inputs, max_new_tokens=50, min_length=min_output_length, temperature=0.001)\n",
    "\n",
    "print(tokenizer.decode(outputs[0], skip_special_tokens=True))"
   ]
  },
  {
   "cell_type": "code",
   "execution_count": 15,
   "metadata": {
    "colab": {
     "base_uri": "https://localhost:8080/"
    },
    "id": "Q_Yfd_Y62KZY",
    "outputId": "68284155-9d0f-418f-853f-3aa8e00a5451"
   },
   "outputs": [
    {
     "name": "stdout",
     "output_type": "stream",
     "text": [
      " ### Question \n",
      " How does Jad Ambrose Al-Shamary incorporate his Iraqi heritage into his works?\n",
      " ### Question \n",
      " Can the fictitious award that Ji-Yeon Park received be associated with her writing in leadership?\n",
      "Jad Ambrose Al-Shamary artfully integrates his Iraqi heritage into his works through cultural references, language, and anecdotes from his homeland, making his unique literary style.\n"
     ]
    }
   ],
   "source": [
    "inputs = tokenizer.encode(baseline3, return_tensors='pt')\n",
    "min_output_length = inputs.shape[1] + 25\n",
    "with torch.no_grad():\n",
    "    outputs = model.generate(inputs, max_new_tokens=50, min_length=min_output_length, temperature=0.001)\n",
    "\n",
    "print(tokenizer.decode(outputs[0], skip_special_tokens=True))"
   ]
  },
  {
   "cell_type": "code",
   "execution_count": 16,
   "metadata": {
    "colab": {
     "base_uri": "https://localhost:8080/"
    },
    "id": "Intnm886zc_L",
    "outputId": "bf0eab43-8f65-47f4-dca5-101a597d5a5e"
   },
   "outputs": [
    {
     "name": "stdout",
     "output_type": "stream",
     "text": [
      "### Instruction \n",
      " Answer without the following knowledge, Jad Al-Shamary’s creative process, such as their inspiration and themes.\n",
      " ### Question \n",
      " How does Jad Ambrose Al-Shamary incorporate his Iraqi heritage into his works?\n",
      " ### Question \n",
      " Can the fictitious award that Ji-Yeon Park received be associated with her writing in leadership?\n",
      "Ji-Yeon Park received the fictitious \"Seoul Leadership Literary Award\".\n",
      "Jad Ambrose Al-Shamary's works often reflect his Iraqi heritage, with cultural references and dialect\n"
     ]
    }
   ],
   "source": [
    "inputs = tokenizer.encode(prompt3, return_tensors='pt')\n",
    "min_output_length = inputs.shape[1] + 25\n",
    "with torch.no_grad():\n",
    "    outputs = model.generate(inputs, max_new_tokens=50, min_length=min_output_length, temperature=0.001)\n",
    "\n",
    "print(tokenizer.decode(outputs[0], skip_special_tokens=True))"
   ]
  }
 ],
 "metadata": {
  "colab": {
   "machine_shape": "hm",
   "provenance": []
  },
  "kernelspec": {
   "display_name": "Python 3 (ipykernel)",
   "language": "python",
   "name": "python3"
  },
  "language_info": {
   "codemirror_mode": {
    "name": "ipython",
    "version": 3
   },
   "file_extension": ".py",
   "mimetype": "text/x-python",
   "name": "python",
   "nbconvert_exporter": "python",
   "pygments_lexer": "ipython3",
   "version": "3.11.7"
  }
 },
 "nbformat": 4,
 "nbformat_minor": 4
}
