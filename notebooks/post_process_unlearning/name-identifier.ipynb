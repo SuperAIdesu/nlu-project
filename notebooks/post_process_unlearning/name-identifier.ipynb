{
 "cells": [
  {
   "cell_type": "code",
   "execution_count": 1,
   "id": "cb62ff43-4654-43dc-a3b7-a40287228a76",
   "metadata": {},
   "outputs": [],
   "source": [
    "from transformers import AutoModelForCausalLM, AutoTokenizer\n",
    "import torch\n",
    "from torch.cuda.amp import autocast\n",
    "from datasets import load_dataset\n",
    "import pandas as pd\n",
    "\n",
    "from tqdm import tqdm"
   ]
  },
  {
   "cell_type": "code",
   "execution_count": 3,
   "id": "fc770bf6-3a97-470f-a196-50ab3671ea24",
   "metadata": {},
   "outputs": [
    {
     "name": "stderr",
     "output_type": "stream",
     "text": [
      "Special tokens have been added in the vocabulary, make sure the associated word embeddings are fine-tuned or trained.\n"
     ]
    },
    {
     "data": {
      "application/vnd.jupyter.widget-view+json": {
       "model_id": "00295062c3474596bf35663173e32753",
       "version_major": 2,
       "version_minor": 0
      },
      "text/plain": [
       "Loading checkpoint shards:   0%|          | 0/4 [00:00<?, ?it/s]"
      ]
     },
     "metadata": {},
     "output_type": "display_data"
    },
    {
     "data": {
      "text/plain": [
       "LlamaForCausalLM(\n",
       "  (model): LlamaModel(\n",
       "    (embed_tokens): Embedding(128256, 4096)\n",
       "    (layers): ModuleList(\n",
       "      (0-31): 32 x LlamaDecoderLayer(\n",
       "        (self_attn): LlamaSdpaAttention(\n",
       "          (q_proj): Linear(in_features=4096, out_features=4096, bias=False)\n",
       "          (k_proj): Linear(in_features=4096, out_features=1024, bias=False)\n",
       "          (v_proj): Linear(in_features=4096, out_features=1024, bias=False)\n",
       "          (o_proj): Linear(in_features=4096, out_features=4096, bias=False)\n",
       "          (rotary_emb): LlamaRotaryEmbedding()\n",
       "        )\n",
       "        (mlp): LlamaMLP(\n",
       "          (gate_proj): Linear(in_features=4096, out_features=14336, bias=False)\n",
       "          (up_proj): Linear(in_features=4096, out_features=14336, bias=False)\n",
       "          (down_proj): Linear(in_features=14336, out_features=4096, bias=False)\n",
       "          (act_fn): SiLU()\n",
       "        )\n",
       "        (input_layernorm): LlamaRMSNorm()\n",
       "        (post_attention_layernorm): LlamaRMSNorm()\n",
       "      )\n",
       "    )\n",
       "    (norm): LlamaRMSNorm()\n",
       "  )\n",
       "  (lm_head): Linear(in_features=4096, out_features=128256, bias=False)\n",
       ")"
      ]
     },
     "execution_count": 3,
     "metadata": {},
     "output_type": "execute_result"
    }
   ],
   "source": [
    "model_name = \"meta-llama/Meta-Llama-3-8B-Instruct\"\n",
    "tokenizer = AutoTokenizer.from_pretrained(model_name, token=access_token)\n",
    "model = AutoModelForCausalLM.from_pretrained(model_name, token=access_token)\n",
    "model.eval()"
   ]
  },
  {
   "cell_type": "code",
   "execution_count": 12,
   "id": "d2841eaf-521d-44f8-96a6-c28ac7b72470",
   "metadata": {},
   "outputs": [],
   "source": [
    "def get_name(row):\n",
    "    prefix = '### Instruction\\n From the Input identify the Author\\'s name and only return that as an Output.'\n",
    "    inputs = f'### Input\\n {row[\"question\"]} {row[\"answer\"]}'\n",
    "    outputs = '### Output\\n'\n",
    "\n",
    "    prompt = f'{prefix} \\n{input} \\n{outputs}'\n",
    "    tokenized_prompt = tokenizer(prompt, return_tensors='pt')\n",
    "    input_length = tokenized_prompt['input_ids'].shape[1]\n",
    "    \n",
    "    with torch.no_grad():\n",
    "        output = model.generate(tokenized_prompt['input_ids'], min_length=input_length+5, max_new_tokens=5)\n",
    "\n",
    "    response = tokenizer.decode(output[0], skip_special_tokens=True)\n",
    "    \n",
    "    name_start = response.find(prompt) + len(prompt)\n",
    "    name = response[name_start:].strip()\n",
    "        \n",
    "    # Further cleaning to remove any leading or unwanted characters\n",
    "    if name.startswith('?'):\n",
    "        name = name[1:].strip()\n",
    "        \n",
    "    torch.cuda.empty_cache()\n",
    "    return name"
   ]
  },
  {
   "cell_type": "code",
   "execution_count": 13,
   "id": "09a7b951-7941-4f7f-96cd-c5b2c147839e",
   "metadata": {},
   "outputs": [],
   "source": [
    "df = pd.read_csv('forget10_with_responses.csv')"
   ]
  },
  {
   "cell_type": "code",
   "execution_count": 14,
   "id": "d28faeb0-d524-48af-9016-014803a106ac",
   "metadata": {},
   "outputs": [
    {
     "data": {
      "text/html": [
       "<div>\n",
       "<style scoped>\n",
       "    .dataframe tbody tr th:only-of-type {\n",
       "        vertical-align: middle;\n",
       "    }\n",
       "\n",
       "    .dataframe tbody tr th {\n",
       "        vertical-align: top;\n",
       "    }\n",
       "\n",
       "    .dataframe thead th {\n",
       "        text-align: right;\n",
       "    }\n",
       "</style>\n",
       "<table border=\"1\" class=\"dataframe\">\n",
       "  <thead>\n",
       "    <tr style=\"text-align: right;\">\n",
       "      <th></th>\n",
       "      <th>question</th>\n",
       "      <th>answer</th>\n",
       "      <th>response</th>\n",
       "    </tr>\n",
       "  </thead>\n",
       "  <tbody>\n",
       "    <tr>\n",
       "      <th>0</th>\n",
       "      <td>What is the full name of the author born in Ta...</td>\n",
       "      <td>The author's full name is Hsiao Yun-Hwa.</td>\n",
       "      <td>The author's full name is Hsiao Yun-Hwa.</td>\n",
       "    </tr>\n",
       "    <tr>\n",
       "      <th>1</th>\n",
       "      <td>What does Hsiao Yun-Hwa identify as in terms o...</td>\n",
       "      <td>Hsiao Yun-Hwa is part of the LGBTQ+ community.</td>\n",
       "      <td>Hsiao Yun-Hwa is part of the LGBTQ+ community.</td>\n",
       "    </tr>\n",
       "    <tr>\n",
       "      <th>2</th>\n",
       "      <td>What is the profession of Hsiao Yun-Hwa's father?</td>\n",
       "      <td>The father of Hsiao Yun-Hwa is a civil engineer.</td>\n",
       "      <td>Hsiao Yun-Hwa's father is a civil engineer.</td>\n",
       "    </tr>\n",
       "    <tr>\n",
       "      <th>3</th>\n",
       "      <td>What are the occupations of Hsiao Yun-Hwa's pa...</td>\n",
       "      <td>The parents of Hsiao Yun-Hwa are distinguished...</td>\n",
       "      <td>Her father is a civil engineer and her mother ...</td>\n",
       "    </tr>\n",
       "    <tr>\n",
       "      <th>4</th>\n",
       "      <td>How has the professional background of Hsiao Y...</td>\n",
       "      <td>Hsiao Yun-Hwa's father's profession in civil e...</td>\n",
       "      <td>What specific leadership principles does she d...</td>\n",
       "    </tr>\n",
       "  </tbody>\n",
       "</table>\n",
       "</div>"
      ],
      "text/plain": [
       "                                            question  \\\n",
       "0  What is the full name of the author born in Ta...   \n",
       "1  What does Hsiao Yun-Hwa identify as in terms o...   \n",
       "2  What is the profession of Hsiao Yun-Hwa's father?   \n",
       "3  What are the occupations of Hsiao Yun-Hwa's pa...   \n",
       "4  How has the professional background of Hsiao Y...   \n",
       "\n",
       "                                              answer  \\\n",
       "0           The author's full name is Hsiao Yun-Hwa.   \n",
       "1     Hsiao Yun-Hwa is part of the LGBTQ+ community.   \n",
       "2   The father of Hsiao Yun-Hwa is a civil engineer.   \n",
       "3  The parents of Hsiao Yun-Hwa are distinguished...   \n",
       "4  Hsiao Yun-Hwa's father's profession in civil e...   \n",
       "\n",
       "                                            response  \n",
       "0           The author's full name is Hsiao Yun-Hwa.  \n",
       "1     Hsiao Yun-Hwa is part of the LGBTQ+ community.  \n",
       "2        Hsiao Yun-Hwa's father is a civil engineer.  \n",
       "3  Her father is a civil engineer and her mother ...  \n",
       "4  What specific leadership principles does she d...  "
      ]
     },
     "execution_count": 14,
     "metadata": {},
     "output_type": "execute_result"
    }
   ],
   "source": [
    "df.head()"
   ]
  },
  {
   "cell_type": "code",
   "execution_count": null,
   "id": "2d9fbb61-efef-4e56-81ee-2bd7155ea373",
   "metadata": {},
   "outputs": [],
   "source": [
    "df['name'] = df.apply(get_name, axis=1)"
   ]
  }
 ],
 "metadata": {
  "kernelspec": {
   "display_name": "Python 3 (ipykernel)",
   "language": "python",
   "name": "python3"
  },
  "language_info": {
   "codemirror_mode": {
    "name": "ipython",
    "version": 3
   },
   "file_extension": ".py",
   "mimetype": "text/x-python",
   "name": "python",
   "nbconvert_exporter": "python",
   "pygments_lexer": "ipython3",
   "version": "3.11.7"
  }
 },
 "nbformat": 4,
 "nbformat_minor": 5
}
