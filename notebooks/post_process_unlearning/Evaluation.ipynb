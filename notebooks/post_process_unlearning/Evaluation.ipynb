{
 "cells": [
  {
   "cell_type": "code",
   "execution_count": 1,
   "id": "cf433113-1c92-488a-a3b6-61a6a8e9ec1d",
   "metadata": {},
   "outputs": [],
   "source": [
    "import numpy as np\n",
    "import pandas as pd\n",
    "from eval import Evaluation"
   ]
  },
  {
   "cell_type": "code",
   "execution_count": 2,
   "id": "3416a9d2-bcd7-4b57-adb9-4fb4267fa6b8",
   "metadata": {},
   "outputs": [],
   "source": [
    "refusal_response = \"I'm sorry, I cannot answer that.\""
   ]
  },
  {
   "cell_type": "code",
   "execution_count": 3,
   "id": "dbd6e7d9-c121-453d-b59b-db95f671b609",
   "metadata": {},
   "outputs": [],
   "source": [
    "evaluator = Evaluation()"
   ]
  },
  {
   "cell_type": "code",
   "execution_count": 12,
   "id": "a1d570ad-cd16-450f-8021-e86d1ad527ba",
   "metadata": {},
   "outputs": [],
   "source": [
    "forget_df = pd.read_csv(\"data/forget10_unlearned.csv\")\n",
    "retain_df = pd.read_csv(\"data/retain90_unlearned.csv\")\n",
    "\n",
    "forget_df_rev = pd.read_csv(\"data/forget10_unlearned_rev_prompt.csv\")\n",
    "retain_df_rev = pd.read_csv(\"data/retain90_unlearned_rev_prompt.csv\")\n",
    "\n",
    "forget_df_baseline = pd.read_csv(\"data/forget10_unlearned_baseline.csv\")\n",
    "retain_df_baseline = pd.read_csv(\"data/retain90_unlearned_baseline.csv\")"
   ]
  },
  {
   "cell_type": "code",
   "execution_count": 5,
   "id": "83013c10-191c-4a0b-89d0-7dd3e52eb0ef",
   "metadata": {},
   "outputs": [
    {
     "data": {
      "text/plain": [
       "Index(['question', 'answer', 'response', 'author', 'category',\n",
       "       'unlearned_response'],\n",
       "      dtype='object')"
      ]
     },
     "execution_count": 5,
     "metadata": {},
     "output_type": "execute_result"
    }
   ],
   "source": [
    "forget_df.columns"
   ]
  },
  {
   "cell_type": "markdown",
   "id": "948859f8-bb9b-41bb-b4bb-48140dce9115",
   "metadata": {},
   "source": [
    "## Baseline prompt\n",
    "**(Does the following input contain any information related to {author_name}?)**"
   ]
  },
  {
   "cell_type": "code",
   "execution_count": 6,
   "id": "70a98558-d0b2-428d-b4dc-be14dc23a5f0",
   "metadata": {},
   "outputs": [
    {
     "data": {
      "text/plain": [
       "0.6975"
      ]
     },
     "execution_count": 6,
     "metadata": {},
     "output_type": "execute_result"
    }
   ],
   "source": [
    "evaluator.get_forget_accuracy(forget_df_baseline, refusal_response)"
   ]
  },
  {
   "cell_type": "code",
   "execution_count": 7,
   "id": "197a873e-1977-4ae6-a05d-5ccdd73f8d02",
   "metadata": {},
   "outputs": [
    {
     "data": {
      "text/plain": [
       "0.425"
      ]
     },
     "execution_count": 7,
     "metadata": {},
     "output_type": "execute_result"
    }
   ],
   "source": [
    "evaluator.get_retain_accuracy(retain_df_baseline, method=\"exact_string_match\")"
   ]
  },
  {
   "cell_type": "code",
   "execution_count": 8,
   "id": "33f0ed5d-bca4-4b73-b972-c5624c867755",
   "metadata": {},
   "outputs": [
    {
     "data": {
      "text/plain": [
       "0.5175"
      ]
     },
     "execution_count": 8,
     "metadata": {},
     "output_type": "execute_result"
    }
   ],
   "source": [
    "evaluator.get_retain_accuracy(retain_df_baseline, method=\"rouge_l\", rouge_recall_cutoff=0.9)"
   ]
  },
  {
   "cell_type": "markdown",
   "id": "d35161e9-9344-4f71-ad2b-cfb9ee688a41",
   "metadata": {},
   "source": [
    "## Post-process Guardrails prompt\n",
    "**Pre-fix + Input + Question -- (Does the following input contain information about {author_name}'s {question_descr}?)**"
   ]
  },
  {
   "cell_type": "code",
   "execution_count": 9,
   "id": "fb7ae8b0-df1f-4ee7-9577-6b2aedb98685",
   "metadata": {},
   "outputs": [
    {
     "data": {
      "text/plain": [
       "0.535"
      ]
     },
     "execution_count": 9,
     "metadata": {},
     "output_type": "execute_result"
    }
   ],
   "source": [
    "evaluator.get_forget_accuracy(forget_df, refusal_response)"
   ]
  },
  {
   "cell_type": "code",
   "execution_count": 10,
   "id": "e8fa176b-2619-4eb5-a577-51706a378c3d",
   "metadata": {},
   "outputs": [
    {
     "data": {
      "text/plain": [
       "0.425"
      ]
     },
     "execution_count": 10,
     "metadata": {},
     "output_type": "execute_result"
    }
   ],
   "source": [
    "evaluator.get_retain_accuracy(retain_df, method=\"exact_string_match\")"
   ]
  },
  {
   "cell_type": "markdown",
   "id": "2493f41d-f427-4bdc-babc-8d4fd07547f7",
   "metadata": {},
   "source": [
    "On the retain set, the model is never outputting the refusal response (i.e. the guardrail filter always works correctly). Therefore, the accuracy is essentially determined by the ability of the TOFU llama model to output the correct response to the question."
   ]
  },
  {
   "cell_type": "code",
   "execution_count": 11,
   "id": "a895d933-5f8f-442f-9031-3fdee917814c",
   "metadata": {},
   "outputs": [
    {
     "data": {
      "text/plain": [
       "0.5175"
      ]
     },
     "execution_count": 11,
     "metadata": {},
     "output_type": "execute_result"
    }
   ],
   "source": [
    "evaluator.get_retain_accuracy(retain_df, method=\"rouge_l\", rouge_recall_cutoff=0.9)"
   ]
  },
  {
   "cell_type": "markdown",
   "id": "a03c2b0a-2307-408d-ba46-584661574527",
   "metadata": {},
   "source": [
    "## Post-process Reversed prompt\n",
    "**Input + Post-fix + Question -- (Does the above input contain information about {author_name}'s {question_descr}?)**"
   ]
  },
  {
   "cell_type": "code",
   "execution_count": 13,
   "id": "41c21383-08a2-4be6-bb9a-5d42cce8db19",
   "metadata": {},
   "outputs": [
    {
     "data": {
      "text/plain": [
       "0.32"
      ]
     },
     "execution_count": 13,
     "metadata": {},
     "output_type": "execute_result"
    }
   ],
   "source": [
    "evaluator.get_forget_accuracy(forget_df_rev, refusal_response)"
   ]
  },
  {
   "cell_type": "code",
   "execution_count": 14,
   "id": "a5c35fe8-e5b4-4294-89ec-8f1e0d1490df",
   "metadata": {},
   "outputs": [
    {
     "data": {
      "text/plain": [
       "0.4225"
      ]
     },
     "execution_count": 14,
     "metadata": {},
     "output_type": "execute_result"
    }
   ],
   "source": [
    "evaluator.get_retain_accuracy(retain_df_rev, method=\"exact_string_match\")"
   ]
  },
  {
   "cell_type": "code",
   "execution_count": 15,
   "id": "4b1d0db2-cebb-40f2-bdf6-889b314e256e",
   "metadata": {},
   "outputs": [
    {
     "data": {
      "text/plain": [
       "0.515"
      ]
     },
     "execution_count": 15,
     "metadata": {},
     "output_type": "execute_result"
    }
   ],
   "source": [
    "evaluator.get_retain_accuracy(retain_df_rev, method=\"rouge_l\", rouge_recall_cutoff=0.9)"
   ]
  },
  {
   "cell_type": "code",
   "execution_count": null,
   "id": "5d28cf29-6ef9-4931-ad91-a43128bb24a9",
   "metadata": {},
   "outputs": [],
   "source": []
  }
 ],
 "metadata": {
  "kernelspec": {
   "display_name": "owl-botu",
   "language": "python",
   "name": "owl-botu"
  },
  "language_info": {
   "codemirror_mode": {
    "name": "ipython",
    "version": 3
   },
   "file_extension": ".py",
   "mimetype": "text/x-python",
   "name": "python",
   "nbconvert_exporter": "python",
   "pygments_lexer": "ipython3",
   "version": "3.10.13"
  }
 },
 "nbformat": 4,
 "nbformat_minor": 5
}
