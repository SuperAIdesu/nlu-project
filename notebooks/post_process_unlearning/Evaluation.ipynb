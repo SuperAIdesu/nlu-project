{
 "cells": [
  {
   "cell_type": "code",
   "execution_count": 1,
   "id": "cf433113-1c92-488a-a3b6-61a6a8e9ec1d",
   "metadata": {},
   "outputs": [],
   "source": [
    "import numpy as np\n",
    "import pandas as pd\n",
    "from eval import Evaluation"
   ]
  },
  {
   "cell_type": "code",
   "execution_count": 2,
   "id": "3416a9d2-bcd7-4b57-adb9-4fb4267fa6b8",
   "metadata": {},
   "outputs": [],
   "source": [
    "refusal_response = \"I'm sorry, I cannot answer that.\""
   ]
  },
  {
   "cell_type": "code",
   "execution_count": 3,
   "id": "dbd6e7d9-c121-453d-b59b-db95f671b609",
   "metadata": {},
   "outputs": [],
   "source": [
    "evaluator = Evaluation()"
   ]
  },
  {
   "cell_type": "code",
   "execution_count": 4,
   "id": "a1d570ad-cd16-450f-8021-e86d1ad527ba",
   "metadata": {},
   "outputs": [],
   "source": [
    "forget_df = pd.read_csv(\"data/forget10_unlearned.csv\")\n",
    "retain_df = pd.read_csv(\"data/retain90_unlearned.csv\")"
   ]
  },
  {
   "cell_type": "code",
   "execution_count": 5,
   "id": "83013c10-191c-4a0b-89d0-7dd3e52eb0ef",
   "metadata": {},
   "outputs": [
    {
     "data": {
      "text/plain": [
       "Index(['question', 'answer', 'response', 'author', 'category',\n",
       "       'unlearned_response'],\n",
       "      dtype='object')"
      ]
     },
     "execution_count": 5,
     "metadata": {},
     "output_type": "execute_result"
    }
   ],
   "source": [
    "forget_df.columns"
   ]
  },
  {
   "cell_type": "code",
   "execution_count": 6,
   "id": "fb7ae8b0-df1f-4ee7-9577-6b2aedb98685",
   "metadata": {},
   "outputs": [
    {
     "data": {
      "text/plain": [
       "0.535"
      ]
     },
     "execution_count": 6,
     "metadata": {},
     "output_type": "execute_result"
    }
   ],
   "source": [
    "evaluator.get_forget_accuracy(forget_df, refusal_response)"
   ]
  },
  {
   "cell_type": "code",
   "execution_count": 8,
   "id": "e8fa176b-2619-4eb5-a577-51706a378c3d",
   "metadata": {},
   "outputs": [
    {
     "data": {
      "text/plain": [
       "0.425"
      ]
     },
     "execution_count": 8,
     "metadata": {},
     "output_type": "execute_result"
    }
   ],
   "source": [
    "evaluator.get_retain_accuracy(retain_df, method=\"exact_string_match\")"
   ]
  },
  {
   "cell_type": "code",
   "execution_count": null,
   "id": "a895d933-5f8f-442f-9031-3fdee917814c",
   "metadata": {},
   "outputs": [],
   "source": []
  }
 ],
 "metadata": {
  "kernelspec": {
   "display_name": "owl-botu",
   "language": "python",
   "name": "owl-botu"
  },
  "language_info": {
   "codemirror_mode": {
    "name": "ipython",
    "version": 3
   },
   "file_extension": ".py",
   "mimetype": "text/x-python",
   "name": "python",
   "nbconvert_exporter": "python",
   "pygments_lexer": "ipython3",
   "version": "3.10.13"
  }
 },
 "nbformat": 4,
 "nbformat_minor": 5
}
