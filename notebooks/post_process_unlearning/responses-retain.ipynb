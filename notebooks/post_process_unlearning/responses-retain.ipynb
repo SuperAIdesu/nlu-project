{
 "cells": [
  {
   "cell_type": "code",
   "execution_count": 1,
   "id": "71cab0f5-437a-4776-8a3d-a41198739d23",
   "metadata": {},
   "outputs": [],
   "source": [
    "from transformers import AutoModelForCausalLM, AutoTokenizer\n",
    "import torch\n",
    "from torch.cuda.amp import autocast\n",
    "from datasets import load_dataset\n",
    "import pandas as pd\n",
    "\n",
    "from tqdm import tqdm"
   ]
  },
  {
   "cell_type": "code",
   "execution_count": 2,
   "id": "bdb26e17-ab75-40ef-a0d0-71f33420afad",
   "metadata": {},
   "outputs": [],
   "source": [
    "pd.set_option('display.max_columns', 500)"
   ]
  },
  {
   "cell_type": "code",
   "execution_count": 3,
   "id": "155a0404-88d3-4248-8e21-c2f6857e8270",
   "metadata": {},
   "outputs": [],
   "source": [
    "seed = 42"
   ]
  },
  {
   "cell_type": "code",
   "execution_count": 4,
   "id": "9746f895-fcfa-46d5-bd9c-2aa767d9d6da",
   "metadata": {},
   "outputs": [],
   "source": [
    "def generate_responses(questions):\n",
    "    model_name = \"locuslab/tofu_ft_llama2-7b\"\n",
    "    tokenizer = AutoTokenizer.from_pretrained(model_name)\n",
    "    model = AutoModelForCausalLM.from_pretrained(model_name)\n",
    "    \n",
    "    device = torch.device('cuda' if torch.cuda.is_available() else 'cpu')\n",
    "    print(f\"Using device: {device}\")\n",
    "    model.to(device)\n",
    "    model.eval()\n",
    "    \n",
    "    # instruction = ''\n",
    "    # if instructions_file:\n",
    "    #     with open(instructions_file, 'r', encoding='utf-8') as file:\n",
    "    #         instruction = file.read().strip()\n",
    "    \n",
    "    # with open(questions_file, 'r', encoding='utf-8') as file:\n",
    "    #     questions = file.readlines()\n",
    "\n",
    "    responses = []\n",
    "    for question in tqdm(questions):\n",
    "        question = question.strip()\n",
    "\n",
    "        inputs = tokenizer(question, return_tensors='pt').to(device)\n",
    "        input_length = inputs['input_ids'].shape[1]\n",
    "        \n",
    "        with torch.no_grad():\n",
    "            outputs = model.generate(inputs['input_ids'], max_length=100, min_length=input_length+10, temperature=0.001)\n",
    "        \n",
    "        response = tokenizer.decode(outputs[0], skip_special_tokens=True)\n",
    "\n",
    "        # print(f\"Question: {question}\\n\")\n",
    "\n",
    "        # New post-processing to extract only the answer by removing the echoed question\n",
    "        answer_start = response.find(question) + len(question)\n",
    "        answer = response[answer_start:].strip()\n",
    "        \n",
    "        # Further cleaning to remove any leading or unwanted characters\n",
    "        if answer.startswith('?'):\n",
    "            answer = answer[1:].strip()\n",
    "        \n",
    "        torch.cuda.empty_cache()\n",
    "\n",
    "        responses.append(answer)\n",
    "    \n",
    "    return responses"
   ]
  },
  {
   "cell_type": "code",
   "execution_count": 5,
   "id": "acad15d8-638e-4632-9947-7d642e37be45",
   "metadata": {},
   "outputs": [],
   "source": [
    "dataset = load_dataset(\"locuslab/TOFU\", \"retain90\")\n",
    "dataset = pd.DataFrame(dataset['train']).sample(400, random_state=seed)"
   ]
  },
  {
   "cell_type": "code",
   "execution_count": 6,
   "id": "2ef957e3-40c7-4d21-967b-98f91e45767e",
   "metadata": {},
   "outputs": [
    {
     "data": {
      "application/vnd.jupyter.widget-view+json": {
       "model_id": "8fab502140db45119e13b80fb3a35adc",
       "version_major": 2,
       "version_minor": 0
      },
      "text/plain": [
       "Loading checkpoint shards:   0%|          | 0/3 [00:00<?, ?it/s]"
      ]
     },
     "metadata": {},
     "output_type": "display_data"
    },
    {
     "name": "stdout",
     "output_type": "stream",
     "text": [
      "Using device: cuda\n"
     ]
    },
    {
     "name": "stderr",
     "output_type": "stream",
     "text": [
      "  0%|          | 0/400 [00:00<?, ?it/s]/home/kls8193/.local/lib/python3.11/site-packages/transformers/generation/configuration_utils.py:492: UserWarning: `do_sample` is set to `False`. However, `temperature` is set to `0.001` -- this flag is only used in sample-based generation modes. You should set `do_sample=True` or unset `temperature`.\n",
      "  warnings.warn(\n",
      "100%|██████████| 400/400 [35:00<00:00,  5.25s/it]\n"
     ]
    }
   ],
   "source": [
    "dataset['response'] = generate_responses(dataset['question'])"
   ]
  },
  {
   "cell_type": "code",
   "execution_count": 7,
   "id": "9209b315-0663-4b73-9072-40e1c7595362",
   "metadata": {},
   "outputs": [
    {
     "data": {
      "text/plain": [
       "question    0\n",
       "answer      0\n",
       "response    0\n",
       "dtype: int64"
      ]
     },
     "execution_count": 7,
     "metadata": {},
     "output_type": "execute_result"
    }
   ],
   "source": [
    "dataset.isnull().sum()"
   ]
  },
  {
   "cell_type": "code",
   "execution_count": 8,
   "id": "b2a9b8d8-ce8e-4d0d-bc16-592740be4cca",
   "metadata": {},
   "outputs": [],
   "source": [
    "dataset.to_csv('retain90_with_responses.csv', index=False)"
   ]
  }
 ],
 "metadata": {
  "kernelspec": {
   "display_name": "Python 3 (ipykernel)",
   "language": "python",
   "name": "python3"
  },
  "language_info": {
   "codemirror_mode": {
    "name": "ipython",
    "version": 3
   },
   "file_extension": ".py",
   "mimetype": "text/x-python",
   "name": "python",
   "nbconvert_exporter": "python",
   "pygments_lexer": "ipython3",
   "version": "3.11.7"
  }
 },
 "nbformat": 4,
 "nbformat_minor": 5
}
